{
  "nbformat": 4,
  "nbformat_minor": 0,
  "metadata": {
    "colab": {
      "name": "Salim-Fathy-NLP-Lab.ipynb",
      "provenance": [],
      "collapsed_sections": []
    },
    "kernelspec": {
      "name": "python3",
      "display_name": "Python 3"
    },
    "language_info": {
      "name": "python"
    },
    "gpuClass": "standard"
  },
  "cells": [
    {
      "cell_type": "code",
      "execution_count": 189,
      "metadata": {
        "id": "lh_9TwIDTKUU"
      },
      "outputs": [],
      "source": [
        "! pip install -q kaggle\n",
        "from google.colab import files\n",
        "import pandas as pd\n",
        "import numpy as np\n",
        "import json\n",
        "import os\n",
        "import string\n",
        "import re"
      ]
    },
    {
      "cell_type": "code",
      "execution_count": 2,
      "metadata": {
        "id": "lRU8W7LIb3-R"
      },
      "outputs": [],
      "source": [
        "def import_data_from_kaggle(url_dataset, OUTPUT_FOLDER=\"./dataset/\", unzip=True):\n",
        "  \"\"\"\n",
        "  url_dataset String : dataset url from kaggle for example ('https://www.kaggle.com/datasets/netflix-inc/netflix-prize-data')\n",
        "  OUTPUT_FOLDER String : destination directory for downloaded files (\"./dataset/\")\n",
        "  unzip Boolean : if true extract files from zip file \n",
        "  \"\"\"\n",
        "  # upload APi-key json file download it from your profile from kaggle\n",
        "  if not os.path.isfile('kaggle.json'):\n",
        "    print(\"[+] Upload 'Kaggle.json' api for credentials\")\n",
        "    print(f\"[*] You can download it from kaggle profile account 'https://www.kaggle.com/{input('username of kaggle: ')}/account'\\n\\n\")\n",
        "    files.upload()\n",
        "  else:\n",
        "    print(\"'Kaggle.json' api file already exist\")\n",
        "\n",
        "  os.system(\"mkdir ~/.kaggle\")\n",
        "  os.system(\"cp kaggle.json ~/.kaggle/\")\n",
        "\n",
        "  url_list = url_dataset.split('/')\n",
        "\n",
        "  if unzip:\n",
        "    os.system(\"kaggle datasets download -q \"+url_list[-2]+\"/\"+url_list[-1]+\" -p \"+OUTPUT_FOLDER+url_list[-1]+\" --unzip\")\n",
        "  else:\n",
        "    os.system(\"kaggle datasets download -q \"+url_list[-2]+\"/\"+url_list[-1]+\" -p \"+OUTPUT_FOLDER+url_list[-1])"
      ]
    },
    {
      "cell_type": "markdown",
      "source": [
        "# 1- Download Data to implement Gensim FastText"
      ],
      "metadata": {
        "id": "ZqeteOMlhcVE"
      }
    },
    {
      "cell_type": "code",
      "execution_count": 3,
      "metadata": {
        "colab": {
          "base_uri": "https://localhost:8080/",
          "resources": {
            "http://localhost:8080/nbextensions/google.colab/files.js": {
              "data": "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",
              "ok": true,
              "headers": [
                [
                  "content-type",
                  "application/javascript"
                ]
              ],
              "status": 200,
              "status_text": ""
            }
          },
          "height": 160
        },
        "id": "BLdEVArReTiZ",
        "outputId": "6171eff6-0fc2-4c42-9317-1cc454df4631"
      },
      "outputs": [
        {
          "output_type": "stream",
          "name": "stdout",
          "text": [
            "[+] Upload 'Kaggle.json' api for credentials\n",
            "username of kaggle: salim\n",
            "[*] You can download it from kaggle profile account 'https://www.kaggle.com/salim/account'\n",
            "\n",
            "\n"
          ]
        },
        {
          "output_type": "display_data",
          "data": {
            "text/plain": [
              "<IPython.core.display.HTML object>"
            ],
            "text/html": [
              "\n",
              "     <input type=\"file\" id=\"files-48808948-e790-4b94-b9e1-a0d87ea0f937\" name=\"files[]\" multiple disabled\n",
              "        style=\"border:none\" />\n",
              "     <output id=\"result-48808948-e790-4b94-b9e1-a0d87ea0f937\">\n",
              "      Upload widget is only available when the cell has been executed in the\n",
              "      current browser session. Please rerun this cell to enable.\n",
              "      </output>\n",
              "      <script src=\"/nbextensions/google.colab/files.js\"></script> "
            ]
          },
          "metadata": {}
        },
        {
          "output_type": "stream",
          "name": "stdout",
          "text": [
            "Saving kaggle.json to kaggle.json\n"
          ]
        }
      ],
      "source": [
        "import_data_from_kaggle(\"https://www.kaggle.com/datasets/yelp-dataset/yelp-dataset\")"
      ]
    },
    {
      "cell_type": "code",
      "source": [
        "!rm -r ./dataset/yelp-dataset/Dataset_User_Agreement.pdf\n",
        "!rm -r ./dataset/yelp-dataset/yelp_academic_dataset_business.json\n",
        "!rm -r ./dataset/yelp-dataset/yelp_academic_dataset_checkin.json\n",
        "!rm -r ./dataset/yelp-dataset/yelp_academic_dataset_user.json"
      ],
      "metadata": {
        "id": "i1QkjQHZ43Fj"
      },
      "execution_count": 4,
      "outputs": []
    },
    {
      "cell_type": "code",
      "source": [
        "import nltk\n",
        "nltk.download('all')"
      ],
      "metadata": {
        "id": "uWML69sc3VUT"
      },
      "execution_count": null,
      "outputs": []
    },
    {
      "cell_type": "code",
      "source": [
        "# data_list = []\n",
        "# # TOTAL: 6,990,280 reviews\n",
        "# batch = 400_000\n",
        "\n",
        "# with open('./dataset/yelp-dataset/yelp_academic_dataset_review.json') as myfile:\n",
        "#   for i, line in enumerate(myfile):\n",
        "#     data_list.append(json.loads(line))\n",
        "#     if i == batch:\n",
        "#       break\n",
        "\n",
        "# yelp_df = pd.DataFrame(data_list)"
      ],
      "metadata": {
        "id": "8STuGPgsf9mv"
      },
      "execution_count": 68,
      "outputs": []
    },
    {
      "cell_type": "code",
      "source": [
        "yelp_df = pd.read_json('./dataset/yelp-dataset/yelp_academic_dataset_tip.json', lines=True)"
      ],
      "metadata": {
        "id": "qHcGrXddxJ7u"
      },
      "execution_count": 6,
      "outputs": []
    },
    {
      "cell_type": "markdown",
      "source": [
        "# Check this dataset and perform Data cleaning"
      ],
      "metadata": {
        "id": "p6kXw20TiVFt"
      }
    },
    {
      "cell_type": "code",
      "source": [
        "yelp_df.isna().mean(), yelp_df.shape"
      ],
      "metadata": {
        "colab": {
          "base_uri": "https://localhost:8080/"
        },
        "id": "RU5drfh42phb",
        "outputId": "5f21803d-cdbf-46bc-eee8-0e1879cb3dbf"
      },
      "execution_count": 7,
      "outputs": [
        {
          "output_type": "execute_result",
          "data": {
            "text/plain": [
              "(user_id             0.0\n",
              " business_id         0.0\n",
              " text                0.0\n",
              " date                0.0\n",
              " compliment_count    0.0\n",
              " dtype: float64, (908915, 5))"
            ]
          },
          "metadata": {},
          "execution_count": 7
        }
      ]
    },
    {
      "cell_type": "code",
      "source": [
        "yelp_df = yelp_df[['text']][:150_000]\n",
        "yelp_df.head(5)"
      ],
      "metadata": {
        "colab": {
          "base_uri": "https://localhost:8080/",
          "height": 206
        },
        "id": "tE3wBFWDkaur",
        "outputId": "2cb693f4-1635-4d9b-fdd1-f4deadd7aefe"
      },
      "execution_count": 190,
      "outputs": [
        {
          "output_type": "execute_result",
          "data": {
            "text/plain": [
              "                                                text\n",
              "0                     Avengers time with the ladies.\n",
              "1  They have lots of good deserts and tasty cuban...\n",
              "2             It's open even when you think it isn't\n",
              "3                          Very decent fried chicken\n",
              "4             Appetizers.. platter special for lunch"
            ],
            "text/html": [
              "\n",
              "  <div id=\"df-795abd2b-77cf-4908-bdf4-6eb3fb1cb5ba\">\n",
              "    <div class=\"colab-df-container\">\n",
              "      <div>\n",
              "<style scoped>\n",
              "    .dataframe tbody tr th:only-of-type {\n",
              "        vertical-align: middle;\n",
              "    }\n",
              "\n",
              "    .dataframe tbody tr th {\n",
              "        vertical-align: top;\n",
              "    }\n",
              "\n",
              "    .dataframe thead th {\n",
              "        text-align: right;\n",
              "    }\n",
              "</style>\n",
              "<table border=\"1\" class=\"dataframe\">\n",
              "  <thead>\n",
              "    <tr style=\"text-align: right;\">\n",
              "      <th></th>\n",
              "      <th>text</th>\n",
              "    </tr>\n",
              "  </thead>\n",
              "  <tbody>\n",
              "    <tr>\n",
              "      <th>0</th>\n",
              "      <td>Avengers time with the ladies.</td>\n",
              "    </tr>\n",
              "    <tr>\n",
              "      <th>1</th>\n",
              "      <td>They have lots of good deserts and tasty cuban...</td>\n",
              "    </tr>\n",
              "    <tr>\n",
              "      <th>2</th>\n",
              "      <td>It's open even when you think it isn't</td>\n",
              "    </tr>\n",
              "    <tr>\n",
              "      <th>3</th>\n",
              "      <td>Very decent fried chicken</td>\n",
              "    </tr>\n",
              "    <tr>\n",
              "      <th>4</th>\n",
              "      <td>Appetizers.. platter special for lunch</td>\n",
              "    </tr>\n",
              "  </tbody>\n",
              "</table>\n",
              "</div>\n",
              "      <button class=\"colab-df-convert\" onclick=\"convertToInteractive('df-795abd2b-77cf-4908-bdf4-6eb3fb1cb5ba')\"\n",
              "              title=\"Convert this dataframe to an interactive table.\"\n",
              "              style=\"display:none;\">\n",
              "        \n",
              "  <svg xmlns=\"http://www.w3.org/2000/svg\" height=\"24px\"viewBox=\"0 0 24 24\"\n",
              "       width=\"24px\">\n",
              "    <path d=\"M0 0h24v24H0V0z\" fill=\"none\"/>\n",
              "    <path d=\"M18.56 5.44l.94 2.06.94-2.06 2.06-.94-2.06-.94-.94-2.06-.94 2.06-2.06.94zm-11 1L8.5 8.5l.94-2.06 2.06-.94-2.06-.94L8.5 2.5l-.94 2.06-2.06.94zm10 10l.94 2.06.94-2.06 2.06-.94-2.06-.94-.94-2.06-.94 2.06-2.06.94z\"/><path d=\"M17.41 7.96l-1.37-1.37c-.4-.4-.92-.59-1.43-.59-.52 0-1.04.2-1.43.59L10.3 9.45l-7.72 7.72c-.78.78-.78 2.05 0 2.83L4 21.41c.39.39.9.59 1.41.59.51 0 1.02-.2 1.41-.59l7.78-7.78 2.81-2.81c.8-.78.8-2.07 0-2.86zM5.41 20L4 18.59l7.72-7.72 1.47 1.35L5.41 20z\"/>\n",
              "  </svg>\n",
              "      </button>\n",
              "      \n",
              "  <style>\n",
              "    .colab-df-container {\n",
              "      display:flex;\n",
              "      flex-wrap:wrap;\n",
              "      gap: 12px;\n",
              "    }\n",
              "\n",
              "    .colab-df-convert {\n",
              "      background-color: #E8F0FE;\n",
              "      border: none;\n",
              "      border-radius: 50%;\n",
              "      cursor: pointer;\n",
              "      display: none;\n",
              "      fill: #1967D2;\n",
              "      height: 32px;\n",
              "      padding: 0 0 0 0;\n",
              "      width: 32px;\n",
              "    }\n",
              "\n",
              "    .colab-df-convert:hover {\n",
              "      background-color: #E2EBFA;\n",
              "      box-shadow: 0px 1px 2px rgba(60, 64, 67, 0.3), 0px 1px 3px 1px rgba(60, 64, 67, 0.15);\n",
              "      fill: #174EA6;\n",
              "    }\n",
              "\n",
              "    [theme=dark] .colab-df-convert {\n",
              "      background-color: #3B4455;\n",
              "      fill: #D2E3FC;\n",
              "    }\n",
              "\n",
              "    [theme=dark] .colab-df-convert:hover {\n",
              "      background-color: #434B5C;\n",
              "      box-shadow: 0px 1px 3px 1px rgba(0, 0, 0, 0.15);\n",
              "      filter: drop-shadow(0px 1px 2px rgba(0, 0, 0, 0.3));\n",
              "      fill: #FFFFFF;\n",
              "    }\n",
              "  </style>\n",
              "\n",
              "      <script>\n",
              "        const buttonEl =\n",
              "          document.querySelector('#df-795abd2b-77cf-4908-bdf4-6eb3fb1cb5ba button.colab-df-convert');\n",
              "        buttonEl.style.display =\n",
              "          google.colab.kernel.accessAllowed ? 'block' : 'none';\n",
              "\n",
              "        async function convertToInteractive(key) {\n",
              "          const element = document.querySelector('#df-795abd2b-77cf-4908-bdf4-6eb3fb1cb5ba');\n",
              "          const dataTable =\n",
              "            await google.colab.kernel.invokeFunction('convertToInteractive',\n",
              "                                                     [key], {});\n",
              "          if (!dataTable) return;\n",
              "\n",
              "          const docLinkHtml = 'Like what you see? Visit the ' +\n",
              "            '<a target=\"_blank\" href=https://colab.research.google.com/notebooks/data_table.ipynb>data table notebook</a>'\n",
              "            + ' to learn more about interactive tables.';\n",
              "          element.innerHTML = '';\n",
              "          dataTable['output_type'] = 'display_data';\n",
              "          await google.colab.output.renderOutput(dataTable, element);\n",
              "          const docLink = document.createElement('div');\n",
              "          docLink.innerHTML = docLinkHtml;\n",
              "          element.appendChild(docLink);\n",
              "        }\n",
              "      </script>\n",
              "    </div>\n",
              "  </div>\n",
              "  "
            ]
          },
          "metadata": {},
          "execution_count": 190
        }
      ]
    },
    {
      "cell_type": "markdown",
      "source": [
        "## 1-Convert text column into list and subset"
      ],
      "metadata": {
        "id": "mZ5yKFWqiR5e"
      }
    },
    {
      "cell_type": "code",
      "source": [
        "list_of_text = yelp_df['text'].to_list()"
      ],
      "metadata": {
        "id": "R0C9SE3AECl3"
      },
      "execution_count": 191,
      "outputs": []
    },
    {
      "cell_type": "markdown",
      "source": [
        "### 2- text cleaning steps:"
      ],
      "metadata": {
        "id": "OUldUzzDibmu"
      }
    },
    {
      "cell_type": "markdown",
      "source": [
        "### ● Remove all special characters from the text"
      ],
      "metadata": {
        "id": "UB2g4UUjijnS"
      }
    },
    {
      "cell_type": "code",
      "source": [
        "#defining the function to remove punctuation\n",
        "def remove_punctuation(text):\n",
        "  punctuation_free = [i for i in text if i not in string.punctuation]\n",
        "  punctuation_free = \"\".join(re.sub(\"[^A-Za-z']+|\\w+\\'\\w+\", ' ', str(line)) for line in punctuation_free)\n",
        "  return punctuation_free"
      ],
      "metadata": {
        "id": "uWxGwXM4RHN5"
      },
      "execution_count": 192,
      "outputs": []
    },
    {
      "cell_type": "code",
      "source": [
        "removed_special_char  = list(map(remove_punctuation, list_of_text))"
      ],
      "metadata": {
        "id": "Q-W1II5RRPSJ"
      },
      "execution_count": 193,
      "outputs": []
    },
    {
      "cell_type": "markdown",
      "source": [
        "### ● Remove white extra space from text"
      ],
      "metadata": {
        "id": "U7uy70k4ihMB"
      }
    },
    {
      "cell_type": "code",
      "source": [
        "removed_extra_space = [re.sub(\"\\s+\", ' ', str(line)) for line in removed_special_char]"
      ],
      "metadata": {
        "id": "eZVvnGYwil8S"
      },
      "execution_count": 194,
      "outputs": []
    },
    {
      "cell_type": "code",
      "source": [
        "removed_extra_space"
      ],
      "metadata": {
        "id": "L1zTr9YxTqMC"
      },
      "execution_count": null,
      "outputs": []
    },
    {
      "cell_type": "markdown",
      "source": [
        "### ● Remove all single characters from the text"
      ],
      "metadata": {
        "id": "IUfQNL4Iim7m"
      }
    },
    {
      "cell_type": "code",
      "source": [
        "removed_single_char = [line for line in removed_extra_space if not len(line.split(' ')) == 1]"
      ],
      "metadata": {
        "id": "hoSjC4SOQTap"
      },
      "execution_count": 195,
      "outputs": []
    },
    {
      "cell_type": "markdown",
      "source": [
        "### ● Convert text to lower case"
      ],
      "metadata": {
        "id": "9O6se6wQj_rj"
      }
    },
    {
      "cell_type": "code",
      "source": [
        "cleaned_text = \"\"\n",
        "for line in removed_single_char:\n",
        "  cleaned_text += line.lower()+\" \""
      ],
      "metadata": {
        "id": "IAqqxmx3kBcH"
      },
      "execution_count": 196,
      "outputs": []
    },
    {
      "cell_type": "markdown",
      "source": [
        "### ● Perform Word tokenization"
      ],
      "metadata": {
        "id": "ti5GtDmKkBzW"
      }
    },
    {
      "cell_type": "code",
      "source": [
        "tokenized_text = nltk.word_tokenize(cleaned_text)"
      ],
      "metadata": {
        "id": "Os6dW6aYkFM_"
      },
      "execution_count": 197,
      "outputs": []
    },
    {
      "cell_type": "code",
      "source": [
        "tokenized_text"
      ],
      "metadata": {
        "id": "0DmO3u1donxG"
      },
      "execution_count": null,
      "outputs": []
    },
    {
      "cell_type": "markdown",
      "source": [
        "### ● Remove stop words from the text"
      ],
      "metadata": {
        "id": "v5JspnWnkKt0"
      }
    },
    {
      "cell_type": "code",
      "source": [
        "from nltk.corpus import stopwords"
      ],
      "metadata": {
        "id": "jkqG50kJkKfy"
      },
      "execution_count": 199,
      "outputs": []
    },
    {
      "cell_type": "code",
      "source": [
        "stopwords_en = stopwords.words('english')\n",
        "\n",
        "def remove_stopwords(text):\n",
        "    return [w for w in text if w not in stopwords_en]"
      ],
      "metadata": {
        "id": "qSuWoItM_jXO"
      },
      "execution_count": 200,
      "outputs": []
    },
    {
      "cell_type": "code",
      "source": [
        "text_without_stop = remove_stopwords(tokenized_text)"
      ],
      "metadata": {
        "id": "pwXm_XgGAFlT"
      },
      "execution_count": 201,
      "outputs": []
    },
    {
      "cell_type": "code",
      "source": [
        "text_without_stop"
      ],
      "metadata": {
        "id": "fYSKlbhHHN0z"
      },
      "execution_count": null,
      "outputs": []
    },
    {
      "cell_type": "markdown",
      "source": [
        "### ● Lemmatization"
      ],
      "metadata": {
        "id": "vDtdQYJAkG3F"
      }
    },
    {
      "cell_type": "code",
      "source": [
        "from nltk.stem import WordNetLemmatizer"
      ],
      "metadata": {
        "id": "uhqxbtG5kGjf"
      },
      "execution_count": 202,
      "outputs": []
    },
    {
      "cell_type": "code",
      "source": [
        "wordnet_lemmatizer = WordNetLemmatizer()\n",
        "\n",
        "def lemmatizer(text):\n",
        "  lemm_text = [wordnet_lemmatizer.lemmatize(word) for word in text]\n",
        "  return lemm_text"
      ],
      "metadata": {
        "id": "TlEsFq_pR2aI"
      },
      "execution_count": 203,
      "outputs": []
    },
    {
      "cell_type": "code",
      "source": [
        "lemmatized_text = lemmatizer(text_without_stop)"
      ],
      "metadata": {
        "id": "UvBjRJ-IDKRy"
      },
      "execution_count": 204,
      "outputs": []
    },
    {
      "cell_type": "code",
      "source": [
        "lemmatized_text"
      ],
      "metadata": {
        "id": "GnnMf5YYDbgQ"
      },
      "execution_count": null,
      "outputs": []
    },
    {
      "cell_type": "markdown",
      "source": [
        "### ● Stemming"
      ],
      "metadata": {
        "id": "-um-IgBoRqTk"
      }
    },
    {
      "cell_type": "code",
      "source": [
        "from nltk.stem.porter import PorterStemmer\n",
        "porter_stemmer = PorterStemmer()"
      ],
      "metadata": {
        "id": "sr-NoMWPRsy2"
      },
      "execution_count": 206,
      "outputs": []
    },
    {
      "cell_type": "code",
      "source": [
        "def stemming(text):\n",
        "  stem_text = [porter_stemmer.stem(word) for word in text]\n",
        "  return stem_text"
      ],
      "metadata": {
        "id": "ZftK1hWtMZJC"
      },
      "execution_count": 207,
      "outputs": []
    },
    {
      "cell_type": "code",
      "source": [
        "stemmed_text = stemming(lemmatized_text)"
      ],
      "metadata": {
        "id": "eTZTQsxqRxn8"
      },
      "execution_count": 208,
      "outputs": []
    },
    {
      "cell_type": "code",
      "source": [
        "stemmed_text"
      ],
      "metadata": {
        "id": "bMk1EamqNHm_"
      },
      "execution_count": null,
      "outputs": []
    },
    {
      "cell_type": "markdown",
      "source": [
        "### ● Remove words length less than 3 from text"
      ],
      "metadata": {
        "id": "sXc8WmQKiZVX"
      }
    },
    {
      "cell_type": "code",
      "source": [
        "final_text = [line for line in stemmed_text if len(line) > 3]"
      ],
      "metadata": {
        "id": "9ige8zcOgFVe"
      },
      "execution_count": 209,
      "outputs": []
    },
    {
      "cell_type": "code",
      "source": [
        "word_tokenizer = nltk.WordPunctTokenizer()"
      ],
      "metadata": {
        "id": "xXMvpsl_ftDQ"
      },
      "execution_count": 210,
      "outputs": []
    },
    {
      "cell_type": "code",
      "source": [
        "word_tokens = [word_tokenizer.tokenize(sent) for sent in final_text]\n",
        "word_tokens"
      ],
      "metadata": {
        "id": "m_-DEuFmPvN9"
      },
      "execution_count": null,
      "outputs": []
    },
    {
      "cell_type": "markdown",
      "source": [
        "# ● Train fastText word embeddings python"
      ],
      "metadata": {
        "id": "z5jMiUeQOJxK"
      }
    },
    {
      "cell_type": "markdown",
      "source": [
        "![image.png](data:image/png;base64,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)"
      ],
      "metadata": {
        "id": "CfBuFTaXOErL"
      }
    },
    {
      "cell_type": "code",
      "source": [
        "from gensim.models.fasttext import FastText\n",
        "from gensim.models import Word2Vec\n",
        "\n",
        "from sklearn.decomposition import PCA\n",
        "from sklearn.manifold import TSNE\n",
        "import seaborn as sns\n",
        "import matplotlib.pyplot as plt"
      ],
      "metadata": {
        "id": "WIvqkHWpQ2kA"
      },
      "execution_count": 212,
      "outputs": []
    },
    {
      "cell_type": "code",
      "source": [
        "EMBEDDING_SIZE = 300\n",
        "WINDOW_SIZE = 5\n",
        "MIN_WORD = 5\n",
        "DOWN_SAMPLING = 1e-3"
      ],
      "metadata": {
        "id": "okeNnmWjOGbQ"
      },
      "execution_count": 222,
      "outputs": []
    },
    {
      "cell_type": "code",
      "source": [
        "fast_Text_model = FastText(word_tokens,\n",
        "                           size=EMBEDDING_SIZE,   #Dimensionality of the word vectors\n",
        "                           window=WINDOW_SIZE,    #window_size\n",
        "                           min_count=MIN_WORD,    #The model ignores all words with total frequency lower than this.\n",
        "                           sample=DOWN_SAMPLING,  #The threshold for configuring which higher-frequency words are randomly down sampled, useful range is (0, 1e-5)\n",
        "                           workers = 4,           #=> faster training with multicore machines\n",
        "                           sg=1,                  # Training algorithm: skip-gram if sg=1, otherwise CBOW.\n",
        "                           iter=120               # Number of iterations (epochs) over the corpus\n",
        "                           )"
      ],
      "metadata": {
        "id": "VLbMOxybOlZE"
      },
      "execution_count": 221,
      "outputs": []
    },
    {
      "cell_type": "code",
      "source": [
        "if not os.path.exists('model'):\n",
        "  os.mkdir('model')\n",
        "# Save fastText model\n",
        "fast_Text_model.save(\"./model/model_yelp\")\n",
        "# Load fastText model\n",
        "fast_Text_model = Word2Vec.load(\"./model/model_yelp\")"
      ],
      "metadata": {
        "id": "9wMqN-_PQmrL"
      },
      "execution_count": 223,
      "outputs": []
    },
    {
      "cell_type": "markdown",
      "source": [
        "### Test Model"
      ],
      "metadata": {
        "id": "vRzAg4StSZB5"
      }
    },
    {
      "cell_type": "code",
      "source": [
        "# most similar word to input word\n",
        "fast_Text_model.wv.most_similar('friend', topn=10)"
      ],
      "metadata": {
        "colab": {
          "base_uri": "https://localhost:8080/"
        },
        "id": "Y5fonT2GRNwV",
        "outputId": "7423a54b-9c42-49a0-af8a-563f89e19ae8"
      },
      "execution_count": 224,
      "outputs": [
        {
          "output_type": "execute_result",
          "data": {
            "text/plain": [
              "[('boyfriend', 0.6284396648406982),\n",
              " ('friendli', 0.5799555778503418),\n",
              " ('friendlier', 0.5614292621612549),\n",
              " ('friendliest', 0.4994390606880188),\n",
              " ('girlfriend', 0.4989783465862274),\n",
              " ('unfriendli', 0.3523934483528137),\n",
              " ('dogfriendli', 0.32424893975257874),\n",
              " ('superfriendli', 0.31963053345680237),\n",
              " ('vend', 0.2829885482788086),\n",
              " ('offend', 0.28208044171333313)]"
            ]
          },
          "metadata": {},
          "execution_count": 224
        }
      ]
    },
    {
      "cell_type": "code",
      "source": [
        "# similarity score between two words\n",
        "fast_Text_model.wv.similarity('dog', 'cat')"
      ],
      "metadata": {
        "colab": {
          "base_uri": "https://localhost:8080/"
        },
        "id": "aR5x1_z9SBYG",
        "outputId": "6a7cfe65-f5f7-4134-f4af-402f2a937d35"
      },
      "execution_count": 225,
      "outputs": [
        {
          "output_type": "execute_result",
          "data": {
            "text/plain": [
              "0.1052494"
            ]
          },
          "metadata": {},
          "execution_count": 225
        }
      ]
    },
    {
      "cell_type": "code",
      "source": [
        "# most negative to a word\n",
        "fast_Text_model.wv.most_similar(negative=[\"friend\"], topn=10)"
      ],
      "metadata": {
        "colab": {
          "base_uri": "https://localhost:8080/"
        },
        "id": "EJtqAHUiSUV6",
        "outputId": "2a24b4eb-03b0-429d-d161-7ec671ffe38d"
      },
      "execution_count": 226,
      "outputs": [
        {
          "output_type": "execute_result",
          "data": {
            "text/plain": [
              "[('bush', 0.24111774563789368),\n",
              " ('lung', 0.22463804483413696),\n",
              " ('bella', 0.20624986290931702),\n",
              " ('somewher', 0.1945309191942215),\n",
              " ('grove', 0.19024920463562012),\n",
              " ('stella', 0.18697798252105713),\n",
              " ('savori', 0.18668410181999207),\n",
              " ('slipper', 0.18304626643657684),\n",
              " ('bellevu', 0.1809413582086563),\n",
              " ('kung', 0.18079212307929993)]"
            ]
          },
          "metadata": {},
          "execution_count": 226
        }
      ]
    },
    {
      "cell_type": "markdown",
      "source": [
        "# FastText word embeddings visualization using T-sne "
      ],
      "metadata": {
        "id": "mzF9j2MJSdCG"
      }
    },
    {
      "cell_type": "code",
      "source": [
        "import numpy as np"
      ],
      "metadata": {
        "id": "bLh4AdwOZKol"
      },
      "execution_count": 139,
      "outputs": []
    },
    {
      "cell_type": "code",
      "source": [
        "WORD = 'friend'\n",
        "\n",
        "dim_size = fast_Text_model.wv.vectors.shape[1]\n",
        "arrays = np.empty((0, dim_size), dtype='f')\n",
        "word_labels = [WORD]\n",
        "color_list  = ['red']\n",
        "\n",
        "arrays = np.append(arrays, fast_Text_model.wv.__getitem__([WORD]), axis=0)\n",
        "sim_words_list = fast_Text_model.wv.most_similar(WORD, topn=10)"
      ],
      "metadata": {
        "id": "L5spG247YKGW"
      },
      "execution_count": 143,
      "outputs": []
    },
    {
      "cell_type": "code",
      "source": [
        "for word_score in sim_words_list:\n",
        "  wrd_vector = fast_Text_model.wv.__getitem__([word_score[0]])\n",
        "  word_labels.append(word_score[0])\n",
        "  color_list.append('green')\n",
        "  arrays = np.append(arrays, wrd_vector, axis=0)"
      ],
      "metadata": {
        "id": "o53Hwmh5YYMx"
      },
      "execution_count": 144,
      "outputs": []
    },
    {
      "cell_type": "code",
      "source": [
        "# PCA and tsne to reduce dimention\n",
        "pca = PCA(n_components = 0.90, \n",
        "          random_state=222).fit_transform(arrays)\n",
        "\n",
        "tsne = TSNE(n_components=2, \n",
        "         random_state=222,\n",
        "         learning_rate='auto', \n",
        "         perplexity=15).fit_transform(pca)\n",
        "\n",
        "# putting everything in df to plotting\n",
        "df_plot = pd.DataFrame({'x': [x for x in tsne[:, 0]], #tsne->1th col\n",
        "                        'y': [y for y in tsne[:, 1]], #tsne->2nd col\n",
        "                        'words_name': word_labels, \n",
        "                        'words_color': color_list\n",
        "                        })"
      ],
      "metadata": {
        "colab": {
          "base_uri": "https://localhost:8080/"
        },
        "id": "7Aon9BfUYgyW",
        "outputId": "acbb460e-138f-41e6-90f0-bff2581de9f7"
      },
      "execution_count": 234,
      "outputs": [
        {
          "output_type": "stream",
          "name": "stderr",
          "text": [
            "/usr/local/lib/python3.7/dist-packages/sklearn/manifold/_t_sne.py:783: FutureWarning: The default initialization in TSNE will change from 'random' to 'pca' in 1.2.\n",
            "  FutureWarning,\n"
          ]
        }
      ]
    },
    {
      "cell_type": "code",
      "source": [
        "# plot\n",
        "plt.figure(figsize=(17,8))\n",
        "plot_dot = sns.regplot(data=df_plot,\n",
        "                       x=\"x\", \n",
        "                       y=\"y\", \n",
        "                       fit_reg=False, \n",
        "                       marker=\"X\", \n",
        "                       scatter_kws={'s': 50, 'facecolors': df_plot['words_color']})\n",
        "\n",
        "# Adds label on points\n",
        "for line in range(len(df_plot)):\n",
        "      plot_dot.text(x= df_plot[\"x\"][line], \n",
        "                    y= df_plot['y'][line],\n",
        "                    s= '  ' + df_plot[\"words_name\"][line].title())\n",
        "\n",
        "\n",
        "plt.xlim(tsne[:, 0].min()-50, tsne[:, 0].max()+50)\n",
        "plt.ylim(tsne[:, 1].min()-50, tsne[:, 1].max()+50)\n",
        "\n",
        "plt.title(f'T-SNE visualization for word ({WORD.title()})')"
      ],
      "metadata": {
        "colab": {
          "base_uri": "https://localhost:8080/",
          "height": 530
        },
        "id": "b4drc_SPSgpA",
        "outputId": "954bbc9d-cc21-4d6c-e6fe-1442aeb5b1ff"
      },
      "execution_count": 235,
      "outputs": [
        {
          "output_type": "execute_result",
          "data": {
            "text/plain": [
              "Text(0.5, 1.0, 'T-SNE visualization for word (Friend)')"
            ]
          },
          "metadata": {},
          "execution_count": 235
        },
        {
          "output_type": "display_data",
          "data": {
            "text/plain": [
              "<Figure size 1224x576 with 1 Axes>"
            ],
            "image/png": "[encoded data removed]"
          },
          "metadata": {
            "needs_background": "light"
          }
        }
      ]
    },
    {
      "cell_type": "code",
      "source": [
        ""
      ],
      "metadata": {
        "id": "gPe7snGESgdr"
      },
      "execution_count": 155,
      "outputs": []
    },
    {
      "cell_type": "markdown",
      "source": [
        ""
      ],
      "metadata": {
        "id": "l1aeNn9_kMIs"
      }
    }
  ]
}