{
 "cells": [
  {
   "cell_type": "markdown",
   "id": "0982a95c",
   "metadata": {
    "id": "0982a95c"
   },
   "source": [
    "---\n",
    "# Your Name  : `NLP - Lab 01` - `Mansoura_Group 01`\n",
    "\n",
    "---"
   ]
  },
  {
   "cell_type": "markdown",
   "id": "aabe4a5c",
   "metadata": {
    "id": "aabe4a5c"
   },
   "source": [
    "# Q1)  use 6 methods to tokenize the previous text; two of them are traditional methods based on your knowledge of python. The other methods by NLP libraries.\n",
    "> **`Tokenization`** is essentially splitting a phrase, sentence, paragraph, or an entire text document into smaller units, such as individual words or terms. Each of these smaller units are called tokens.\n",
    "\n",
    "\n",
    "> إن التاريخ العسكري سوف يتوقف طويلاً أمام عملية يوم ٦ أكتوبر ١٩٧٣, ولست اتجاوز اذا قلت أن التاريخ العسكري سوف يتوقف طويلاً بالفحص والدرس أمام عملية يوم ٦ أكتوبر سنة ٧٣, حين تمكنت القوات المسلحة المصرية من إقتحام مانع قناة السويس الصعب واجتياز خط بارليف المنيع وإقامة رؤس جسور لها بعد أن أفقدت العدو توازنه فى 6 ساعات, لقد كانت المخاطرة كبيرة والتضحيات عظيمة لمعركة ٦ أكتوبر خلال الساعات الست الأولي من حربنا كانت هائلة فقد العدو توازنه إلي هذه اللحظة"
   ]
  },
  {
   "cell_type": "code",
   "execution_count": 1,
   "id": "9870a17a",
   "metadata": {
    "colab": {
     "base_uri": "https://localhost:8080/",
     "height": 73
    },
    "id": "9870a17a",
    "outputId": "c155c580-d966-408c-fc1f-cf6f89dc295e",
    "scrolled": true
   },
   "outputs": [
    {
     "name": "stdout",
     "output_type": "stream",
     "text": [
      "\n",
      "'إن التاريخ العسكري سوف يتوقف طويلاً أمام عملية يوم ٦ أكتوبر ١٩٧٣, ولست اتجاوز اذا قلت أن التاريخ العسكري سوف يتوقف طويلاً \n",
      "بالفحص والدرس أمام عملية يوم ٦ أكتوبر سنة ٧٣, حين تمكنت القوات المسلحة المصرية من إقتحام مانع قناة السويس الصعب\n",
      "واجتياز خط بارليف المنيع وإقامة رؤس جسور لها بعد أن أفقدت العدو توازنه فى 6 ساعات, لقد كانت المخاطرة كبيرة والتضحيات\n",
      "عظيمة لمعركة ٦ أكتوبر خلال الساعات الست الأولي من حربنا كانت هائلة فقد العدو توازنه إلي هذه اللحظة'\n",
      "\n"
     ]
    }
   ],
   "source": [
    "text = \"\"\"\n",
    "'إن التاريخ العسكري سوف يتوقف طويلاً أمام عملية يوم ٦ أكتوبر ١٩٧٣, ولست اتجاوز اذا قلت أن التاريخ العسكري سوف يتوقف طويلاً \n",
    "بالفحص والدرس أمام عملية يوم ٦ أكتوبر سنة ٧٣, حين تمكنت القوات المسلحة المصرية من إقتحام مانع قناة السويس الصعب\n",
    "واجتياز خط بارليف المنيع وإقامة رؤس جسور لها بعد أن أفقدت العدو توازنه فى 6 ساعات, لقد كانت المخاطرة كبيرة والتضحيات\n",
    "عظيمة لمعركة ٦ أكتوبر خلال الساعات الست الأولي من حربنا كانت هائلة فقد العدو توازنه إلي هذه اللحظة'\n",
    "\"\"\"\n",
    "print(text)"
   ]
  },
  {
   "cell_type": "code",
   "execution_count": 2,
   "id": "cc744678",
   "metadata": {
    "colab": {
     "base_uri": "https://localhost:8080/",
     "height": 73
    },
    "id": "cc744678",
    "outputId": "1e88e2a2-2a40-4aa5-c3a4-3c3a80bad2be"
   },
   "outputs": [
    {
     "name": "stdout",
     "output_type": "stream",
     "text": [
      "إن التاريخ العسكري سوف يتوقف طويلاً أمام عملية يوم ٦ أكتوبر ١٩٧٣ ولست اتجاوز اذا قلت أن التاريخ العسكري سوف يتوقف طويلاً بالفحص والدرس أمام عملية يوم ٦ أكتوبر سنة ٧٣ حين تمكنت القوات المسلحة المصرية من إقتحام مانع قناة السويس الصعبواجتياز خط بارليف المنيع وإقامة رؤس جسور لها بعد أن أفقدت العدو توازنه فى 6 ساعات لقد كانت المخاطرة كبيرة والتضحياتعظيمة لمعركة ٦ أكتوبر خلال الساعات الست الأولي من حربنا كانت هائلة فقد العدو توازنه إلي هذه اللحظة\n"
     ]
    }
   ],
   "source": [
    "# Preprocessing\n",
    "text = text.replace(',', '').replace('\\n','').replace(\"'\", '')\n",
    "print(text)"
   ]
  },
  {
   "cell_type": "markdown",
   "id": "3d02ed2f",
   "metadata": {
    "id": "3d02ed2f"
   },
   "source": [
    "### `01- Tokenization Using Split`"
   ]
  },
  {
   "cell_type": "code",
   "execution_count": 3,
   "id": "35f26af7",
   "metadata": {},
   "outputs": [
    {
     "data": {
      "text/plain": [
       "['إن',\n",
       " 'التاريخ',\n",
       " 'العسكري',\n",
       " 'سوف',\n",
       " 'يتوقف',\n",
       " 'طويلاً',\n",
       " 'أمام',\n",
       " 'عملية',\n",
       " 'يوم',\n",
       " '٦',\n",
       " 'أكتوبر',\n",
       " '١٩٧٣',\n",
       " 'ولست',\n",
       " 'اتجاوز',\n",
       " 'اذا',\n",
       " 'قلت',\n",
       " 'أن',\n",
       " 'التاريخ',\n",
       " 'العسكري',\n",
       " 'سوف',\n",
       " 'يتوقف',\n",
       " 'طويلاً',\n",
       " 'بالفحص',\n",
       " 'والدرس',\n",
       " 'أمام',\n",
       " 'عملية',\n",
       " 'يوم',\n",
       " '٦',\n",
       " 'أكتوبر',\n",
       " 'سنة',\n",
       " '٧٣',\n",
       " 'حين',\n",
       " 'تمكنت',\n",
       " 'القوات',\n",
       " 'المسلحة',\n",
       " 'المصرية',\n",
       " 'من',\n",
       " 'إقتحام',\n",
       " 'مانع',\n",
       " 'قناة',\n",
       " 'السويس',\n",
       " 'الصعبواجتياز',\n",
       " 'خط',\n",
       " 'بارليف',\n",
       " 'المنيع',\n",
       " 'وإقامة',\n",
       " 'رؤس',\n",
       " 'جسور',\n",
       " 'لها',\n",
       " 'بعد',\n",
       " 'أن',\n",
       " 'أفقدت',\n",
       " 'العدو',\n",
       " 'توازنه',\n",
       " 'فى',\n",
       " '6',\n",
       " 'ساعات',\n",
       " 'لقد',\n",
       " 'كانت',\n",
       " 'المخاطرة',\n",
       " 'كبيرة',\n",
       " 'والتضحياتعظيمة',\n",
       " 'لمعركة',\n",
       " '٦',\n",
       " 'أكتوبر',\n",
       " 'خلال',\n",
       " 'الساعات',\n",
       " 'الست',\n",
       " 'الأولي',\n",
       " 'من',\n",
       " 'حربنا',\n",
       " 'كانت',\n",
       " 'هائلة',\n",
       " 'فقد',\n",
       " 'العدو',\n",
       " 'توازنه',\n",
       " 'إلي',\n",
       " 'هذه',\n",
       " 'اللحظة']"
      ]
     },
     "execution_count": 3,
     "metadata": {},
     "output_type": "execute_result"
    }
   ],
   "source": [
    "tokens_1 = text.split(\" \")\n",
    "tokens_1"
   ]
  },
  {
   "cell_type": "markdown",
   "id": "f68764a1",
   "metadata": {
    "id": "f68764a1"
   },
   "source": [
    "### `02- Tokenization Using Regular Expression`"
   ]
  },
  {
   "cell_type": "code",
   "execution_count": null,
   "id": "6fcd85d2",
   "metadata": {},
   "outputs": [],
   "source": [
    "import re"
   ]
  },
  {
   "cell_type": "code",
   "execution_count": 5,
   "id": "8a9333a5",
   "metadata": {
    "id": "8a9333a5"
   },
   "outputs": [
    {
     "data": {
      "text/plain": [
       "['إن',\n",
       " 'التاريخ',\n",
       " 'العسكري',\n",
       " 'سوف',\n",
       " 'يتوقف',\n",
       " 'طويلا',\n",
       " 'أمام',\n",
       " 'عملية',\n",
       " 'يوم',\n",
       " '٦',\n",
       " 'أكتوبر',\n",
       " '١٩٧٣',\n",
       " 'ولست',\n",
       " 'اتجاوز',\n",
       " 'اذا',\n",
       " 'قلت',\n",
       " 'أن',\n",
       " 'التاريخ',\n",
       " 'العسكري',\n",
       " 'سوف',\n",
       " 'يتوقف',\n",
       " 'طويلا',\n",
       " 'بالفحص',\n",
       " 'والدرس',\n",
       " 'أمام',\n",
       " 'عملية',\n",
       " 'يوم',\n",
       " '٦',\n",
       " 'أكتوبر',\n",
       " 'سنة',\n",
       " '٧٣',\n",
       " 'حين',\n",
       " 'تمكنت',\n",
       " 'القوات',\n",
       " 'المسلحة',\n",
       " 'المصرية',\n",
       " 'من',\n",
       " 'إقتحام',\n",
       " 'مانع',\n",
       " 'قناة',\n",
       " 'السويس',\n",
       " 'الصعبواجتياز',\n",
       " 'خط',\n",
       " 'بارليف',\n",
       " 'المنيع',\n",
       " 'وإقامة',\n",
       " 'رؤس',\n",
       " 'جسور',\n",
       " 'لها',\n",
       " 'بعد',\n",
       " 'أن',\n",
       " 'أفقدت',\n",
       " 'العدو',\n",
       " 'توازنه',\n",
       " 'فى',\n",
       " '6',\n",
       " 'ساعات',\n",
       " 'لقد',\n",
       " 'كانت',\n",
       " 'المخاطرة',\n",
       " 'كبيرة',\n",
       " 'والتضحياتعظيمة',\n",
       " 'لمعركة',\n",
       " '٦',\n",
       " 'أكتوبر',\n",
       " 'خلال',\n",
       " 'الساعات',\n",
       " 'الست',\n",
       " 'الأولي',\n",
       " 'من',\n",
       " 'حربنا',\n",
       " 'كانت',\n",
       " 'هائلة',\n",
       " 'فقد',\n",
       " 'العدو',\n",
       " 'توازنه',\n",
       " 'إلي',\n",
       " 'هذه',\n",
       " 'اللحظة']"
      ]
     },
     "execution_count": 5,
     "metadata": {},
     "output_type": "execute_result"
    }
   ],
   "source": [
    "tokens_2 = re.findall(\"\\w+\", text)\n",
    "tokens_2"
   ]
  },
  {
   "cell_type": "markdown",
   "id": "7cd43a3e",
   "metadata": {
    "id": "7cd43a3e"
   },
   "source": [
    "### `03- Tokenization Using NLTK`"
   ]
  },
  {
   "cell_type": "code",
   "execution_count": null,
   "id": "cfab0cc1",
   "metadata": {
    "id": "cfab0cc1"
   },
   "outputs": [],
   "source": [
    "# pip install -U nltk\n",
    "import nltk"
   ]
  },
  {
   "cell_type": "code",
   "execution_count": 7,
   "id": "6464d419",
   "metadata": {},
   "outputs": [
    {
     "name": "stderr",
     "output_type": "stream",
     "text": [
      "[nltk_data] Downloading package punkt to\n",
      "[nltk_data]     C:\\Users\\SM\\AppData\\Roaming\\nltk_data...\n",
      "[nltk_data]   Package punkt is already up-to-date!\n"
     ]
    },
    {
     "data": {
      "text/plain": [
       "True"
      ]
     },
     "execution_count": 7,
     "metadata": {},
     "output_type": "execute_result"
    }
   ],
   "source": [
    "nltk.download('punkt')"
   ]
  },
  {
   "cell_type": "code",
   "execution_count": 8,
   "id": "5ccfd2e5",
   "metadata": {},
   "outputs": [
    {
     "data": {
      "text/plain": [
       "['إن',\n",
       " 'التاريخ',\n",
       " 'العسكري',\n",
       " 'سوف',\n",
       " 'يتوقف',\n",
       " 'طويلاً',\n",
       " 'أمام',\n",
       " 'عملية',\n",
       " 'يوم',\n",
       " '٦',\n",
       " 'أكتوبر',\n",
       " '١٩٧٣',\n",
       " 'ولست',\n",
       " 'اتجاوز',\n",
       " 'اذا',\n",
       " 'قلت',\n",
       " 'أن',\n",
       " 'التاريخ',\n",
       " 'العسكري',\n",
       " 'سوف',\n",
       " 'يتوقف',\n",
       " 'طويلاً',\n",
       " 'بالفحص',\n",
       " 'والدرس',\n",
       " 'أمام',\n",
       " 'عملية',\n",
       " 'يوم',\n",
       " '٦',\n",
       " 'أكتوبر',\n",
       " 'سنة',\n",
       " '٧٣',\n",
       " 'حين',\n",
       " 'تمكنت',\n",
       " 'القوات',\n",
       " 'المسلحة',\n",
       " 'المصرية',\n",
       " 'من',\n",
       " 'إقتحام',\n",
       " 'مانع',\n",
       " 'قناة',\n",
       " 'السويس',\n",
       " 'الصعبواجتياز',\n",
       " 'خط',\n",
       " 'بارليف',\n",
       " 'المنيع',\n",
       " 'وإقامة',\n",
       " 'رؤس',\n",
       " 'جسور',\n",
       " 'لها',\n",
       " 'بعد',\n",
       " 'أن',\n",
       " 'أفقدت',\n",
       " 'العدو',\n",
       " 'توازنه',\n",
       " 'فى',\n",
       " '6',\n",
       " 'ساعات',\n",
       " 'لقد',\n",
       " 'كانت',\n",
       " 'المخاطرة',\n",
       " 'كبيرة',\n",
       " 'والتضحياتعظيمة',\n",
       " 'لمعركة',\n",
       " '٦',\n",
       " 'أكتوبر',\n",
       " 'خلال',\n",
       " 'الساعات',\n",
       " 'الست',\n",
       " 'الأولي',\n",
       " 'من',\n",
       " 'حربنا',\n",
       " 'كانت',\n",
       " 'هائلة',\n",
       " 'فقد',\n",
       " 'العدو',\n",
       " 'توازنه',\n",
       " 'إلي',\n",
       " 'هذه',\n",
       " 'اللحظة']"
      ]
     },
     "execution_count": 8,
     "metadata": {},
     "output_type": "execute_result"
    }
   ],
   "source": [
    "tokens_3 = nltk.word_tokenize(text)\n",
    "tokens_3"
   ]
  },
  {
   "cell_type": "markdown",
   "id": "ecd1610c",
   "metadata": {
    "id": "ecd1610c"
   },
   "source": [
    "### `04- Tokenization Using spaCy Library`"
   ]
  },
  {
   "cell_type": "code",
   "execution_count": null,
   "id": "4e2985ba",
   "metadata": {
    "id": "4e2985ba"
   },
   "outputs": [],
   "source": [
    "# !pip install -U spacy\n",
    "import spacy"
   ]
  },
  {
   "cell_type": "code",
   "execution_count": 10,
   "id": "75b08372",
   "metadata": {},
   "outputs": [],
   "source": [
    "#library to load the core English language model\n",
    "#python -m spacy download en_core_web_sm\n",
    "spc = spacy.load('en_core_web_sm')"
   ]
  },
  {
   "cell_type": "code",
   "execution_count": 11,
   "id": "d68a192c",
   "metadata": {},
   "outputs": [],
   "source": [
    "tokens_4 = list(spc(text))"
   ]
  },
  {
   "cell_type": "code",
   "execution_count": 12,
   "id": "7a7a717f",
   "metadata": {},
   "outputs": [
    {
     "data": {
      "text/plain": [
       "[إن,\n",
       " التاريخ,\n",
       " العسكري,\n",
       " سوف,\n",
       " يتوقف,\n",
       " طويلاً,\n",
       " أمام,\n",
       " عملية,\n",
       " يوم,\n",
       " ٦,\n",
       " أكتوبر,\n",
       " ١٩٧٣,\n",
       " ولست,\n",
       " اتجاوز,\n",
       " اذا,\n",
       " قلت,\n",
       " أن,\n",
       " التاريخ,\n",
       " العسكري,\n",
       " سوف,\n",
       " يتوقف,\n",
       " طويلاً,\n",
       " بالفحص,\n",
       " والدرس,\n",
       " أمام,\n",
       " عملية,\n",
       " يوم,\n",
       " ٦,\n",
       " أكتوبر,\n",
       " سنة,\n",
       " ٧٣,\n",
       " حين,\n",
       " تمكنت,\n",
       " القوات,\n",
       " المسلحة,\n",
       " المصرية,\n",
       " من,\n",
       " إقتحام,\n",
       " مانع,\n",
       " قناة,\n",
       " السويس,\n",
       " الصعبواجتياز,\n",
       " خط,\n",
       " بارليف,\n",
       " المنيع,\n",
       " وإقامة,\n",
       " رؤس,\n",
       " جسور,\n",
       " لها,\n",
       " بعد,\n",
       " أن,\n",
       " أفقدت,\n",
       " العدو,\n",
       " توازنه,\n",
       " فى,\n",
       " 6,\n",
       " ساعات,\n",
       " لقد,\n",
       " كانت,\n",
       " المخاطرة,\n",
       " كبيرة,\n",
       " والتضحياتعظيمة,\n",
       " لمعركة,\n",
       " ٦,\n",
       " أكتوبر,\n",
       " خلال,\n",
       " الساعات,\n",
       " الست,\n",
       " الأولي,\n",
       " من,\n",
       " حربنا,\n",
       " كانت,\n",
       " هائلة,\n",
       " فقد,\n",
       " العدو,\n",
       " توازنه,\n",
       " إلي,\n",
       " هذه,\n",
       " اللحظة]"
      ]
     },
     "execution_count": 12,
     "metadata": {},
     "output_type": "execute_result"
    }
   ],
   "source": [
    "tokens_4"
   ]
  },
  {
   "cell_type": "markdown",
   "id": "94d8586b",
   "metadata": {
    "id": "94d8586b"
   },
   "source": [
    "### `05- Tokenization Using Keras`"
   ]
  },
  {
   "cell_type": "code",
   "execution_count": null,
   "id": "12d7a80c",
   "metadata": {
    "id": "12d7a80c"
   },
   "outputs": [],
   "source": [
    "from keras.preprocessing.text import text_to_word_sequence"
   ]
  },
  {
   "cell_type": "code",
   "execution_count": 14,
   "id": "95dcf245",
   "metadata": {},
   "outputs": [
    {
     "data": {
      "text/plain": [
       "['إن',\n",
       " 'التاريخ',\n",
       " 'العسكري',\n",
       " 'سوف',\n",
       " 'يتوقف',\n",
       " 'طويلاً',\n",
       " 'أمام',\n",
       " 'عملية',\n",
       " 'يوم',\n",
       " '٦',\n",
       " 'أكتوبر',\n",
       " '١٩٧٣',\n",
       " 'ولست',\n",
       " 'اتجاوز',\n",
       " 'اذا',\n",
       " 'قلت',\n",
       " 'أن',\n",
       " 'التاريخ',\n",
       " 'العسكري',\n",
       " 'سوف',\n",
       " 'يتوقف',\n",
       " 'طويلاً',\n",
       " 'بالفحص',\n",
       " 'والدرس',\n",
       " 'أمام',\n",
       " 'عملية',\n",
       " 'يوم',\n",
       " '٦',\n",
       " 'أكتوبر',\n",
       " 'سنة',\n",
       " '٧٣',\n",
       " 'حين',\n",
       " 'تمكنت',\n",
       " 'القوات',\n",
       " 'المسلحة',\n",
       " 'المصرية',\n",
       " 'من',\n",
       " 'إقتحام',\n",
       " 'مانع',\n",
       " 'قناة',\n",
       " 'السويس',\n",
       " 'الصعبواجتياز',\n",
       " 'خط',\n",
       " 'بارليف',\n",
       " 'المنيع',\n",
       " 'وإقامة',\n",
       " 'رؤس',\n",
       " 'جسور',\n",
       " 'لها',\n",
       " 'بعد',\n",
       " 'أن',\n",
       " 'أفقدت',\n",
       " 'العدو',\n",
       " 'توازنه',\n",
       " 'فى',\n",
       " '6',\n",
       " 'ساعات',\n",
       " 'لقد',\n",
       " 'كانت',\n",
       " 'المخاطرة',\n",
       " 'كبيرة',\n",
       " 'والتضحياتعظيمة',\n",
       " 'لمعركة',\n",
       " '٦',\n",
       " 'أكتوبر',\n",
       " 'خلال',\n",
       " 'الساعات',\n",
       " 'الست',\n",
       " 'الأولي',\n",
       " 'من',\n",
       " 'حربنا',\n",
       " 'كانت',\n",
       " 'هائلة',\n",
       " 'فقد',\n",
       " 'العدو',\n",
       " 'توازنه',\n",
       " 'إلي',\n",
       " 'هذه',\n",
       " 'اللحظة']"
      ]
     },
     "execution_count": 14,
     "metadata": {},
     "output_type": "execute_result"
    }
   ],
   "source": [
    "tokens_5 = text_to_word_sequence(text)\n",
    "tokens_5"
   ]
  },
  {
   "cell_type": "markdown",
   "id": "040fe161",
   "metadata": {
    "id": "040fe161"
   },
   "source": [
    "### `06- Tokenization Using Gensim`\n",
    "> **It removes the Numbers**"
   ]
  },
  {
   "cell_type": "code",
   "execution_count": null,
   "id": "042a5d86",
   "metadata": {},
   "outputs": [],
   "source": [
    "from gensim.utils import tokenize"
   ]
  },
  {
   "cell_type": "code",
   "execution_count": 19,
   "id": "90f826f6",
   "metadata": {
    "id": "90f826f6"
   },
   "outputs": [
    {
     "data": {
      "text/plain": [
       "['إن',\n",
       " 'التاريخ',\n",
       " 'العسكري',\n",
       " 'سوف',\n",
       " 'يتوقف',\n",
       " 'طويلا',\n",
       " 'أمام',\n",
       " 'عملية',\n",
       " 'يوم',\n",
       " 'أكتوبر',\n",
       " 'ولست',\n",
       " 'اتجاوز',\n",
       " 'اذا',\n",
       " 'قلت',\n",
       " 'أن',\n",
       " 'التاريخ',\n",
       " 'العسكري',\n",
       " 'سوف',\n",
       " 'يتوقف',\n",
       " 'طويلا',\n",
       " 'بالفحص',\n",
       " 'والدرس',\n",
       " 'أمام',\n",
       " 'عملية',\n",
       " 'يوم',\n",
       " 'أكتوبر',\n",
       " 'سنة',\n",
       " 'حين',\n",
       " 'تمكنت',\n",
       " 'القوات',\n",
       " 'المسلحة',\n",
       " 'المصرية',\n",
       " 'من',\n",
       " 'إقتحام',\n",
       " 'مانع',\n",
       " 'قناة',\n",
       " 'السويس',\n",
       " 'الصعبواجتياز',\n",
       " 'خط',\n",
       " 'بارليف',\n",
       " 'المنيع',\n",
       " 'وإقامة',\n",
       " 'رؤس',\n",
       " 'جسور',\n",
       " 'لها',\n",
       " 'بعد',\n",
       " 'أن',\n",
       " 'أفقدت',\n",
       " 'العدو',\n",
       " 'توازنه',\n",
       " 'فى',\n",
       " 'ساعات',\n",
       " 'لقد',\n",
       " 'كانت',\n",
       " 'المخاطرة',\n",
       " 'كبيرة',\n",
       " 'والتضحياتعظيمة',\n",
       " 'لمعركة',\n",
       " 'أكتوبر',\n",
       " 'خلال',\n",
       " 'الساعات',\n",
       " 'الست',\n",
       " 'الأولي',\n",
       " 'من',\n",
       " 'حربنا',\n",
       " 'كانت',\n",
       " 'هائلة',\n",
       " 'فقد',\n",
       " 'العدو',\n",
       " 'توازنه',\n",
       " 'إلي',\n",
       " 'هذه',\n",
       " 'اللحظة']"
      ]
     },
     "execution_count": 19,
     "metadata": {},
     "output_type": "execute_result"
    }
   ],
   "source": [
    "tokens_6 = list(tokenize(text))\n",
    "tokens_6"
   ]
  },
  {
   "cell_type": "code",
   "execution_count": 15,
   "id": "9a7af115",
   "metadata": {
    "id": "9a7af115"
   },
   "outputs": [],
   "source": []
  },
  {
   "cell_type": "markdown",
   "id": "ae763e5c",
   "metadata": {
    "id": "ae763e5c"
   },
   "source": [
    "---"
   ]
  },
  {
   "cell_type": "markdown",
   "id": "81773ffd",
   "metadata": {
    "id": "81773ffd"
   },
   "source": [
    "# Q2) In the previous text perform the following per-procesing:\n",
    "-\tReplace name and title of sender by “sender” and the name and title of receiver by “receiver”\n",
    "-\tCapitalize the beginning of the paragraph and the beginning of each sentence.\n",
    "-\tExtract the valid mentioned mails in the text.\n",
    "-\tConvert mails which start with vowels to end with '@gmail.com' and the other to end with '@yahoo.com'.\n",
    "> dear Mr jhon, kindly accept the attached file xx@file. you worked hard for the last 7 days. enjoy your holiday. if you face a trouble please, contact _1@xyz.com or 1y@abc.com, ec@mnop.com you may also use xy@1l.vv yours Mrs jane "
   ]
  },
  {
   "cell_type": "markdown",
   "id": "7b810c61",
   "metadata": {
    "id": "7b810c61"
   },
   "source": [
    "### Replace `name` and `title` of sender by **`“sender”`** and the name and title of receiver by **`“receiver”`**"
   ]
  },
  {
   "cell_type": "code",
   "execution_count": 20,
   "id": "5ea73ee7",
   "metadata": {
    "colab": {
     "base_uri": "https://localhost:8080/",
     "height": 54
    },
    "id": "5ea73ee7",
    "outputId": "8489ba68-c44b-495c-e32e-dd9019f46e6e"
   },
   "outputs": [
    {
     "data": {
      "text/plain": [
       "'dear Mr jhon, kindly accept the attached file xx@file. you worked hard for the last 7 days. enjoy your holiday. if you face a trouble please, contact _1@xyz.com or 1y@abc.com, ec@mnop.com you may also use xy@1l.vv yours Mrs jane'"
      ]
     },
     "execution_count": 20,
     "metadata": {},
     "output_type": "execute_result"
    }
   ],
   "source": [
    "text = \"dear Mr jhon, kindly accept the attached file xx@file. you worked hard for the last 7 days. enjoy your holiday. if you face a trouble please, contact _1@xyz.com or 1y@abc.com, ec@mnop.com you may also use xy@1l.vv yours Mrs jane\"\n",
    "text"
   ]
  },
  {
   "cell_type": "code",
   "execution_count": 21,
   "id": "febd9f47",
   "metadata": {
    "colab": {
     "base_uri": "https://localhost:8080/",
     "height": 54
    },
    "id": "febd9f47",
    "outputId": "c63641df-b16f-48b2-9bd2-05e64aee2417"
   },
   "outputs": [
    {
     "data": {
      "text/plain": [
       "'dear Mr receiver, kindly accept the attached file xx@file. you worked hard for the last 7 days. enjoy your holiday. if you face a trouble please, contact _1@xyz.com or 1y@abc.com, ec@mnop.com you may also use xy@1l.vv yours Mrs sender'"
      ]
     },
     "execution_count": 21,
     "metadata": {},
     "output_type": "execute_result"
    }
   ],
   "source": [
    "# Using RegEx\n",
    "new_text = re.sub('jane', 'sender', re.sub('jhon', 'receiver', text))\n",
    "new_text"
   ]
  },
  {
   "cell_type": "code",
   "execution_count": 22,
   "id": "f401fc33",
   "metadata": {
    "colab": {
     "base_uri": "https://localhost:8080/",
     "height": 54
    },
    "id": "f401fc33",
    "outputId": "e98a78f2-c100-45db-f393-12d55cb26d71"
   },
   "outputs": [
    {
     "data": {
      "text/plain": [
       "'dear Mr receiver, kindly accept the attached file xx@file. you worked hard for the last 7 days. enjoy your holiday. if you face a trouble please, contact _1@xyz.com or 1y@abc.com, ec@mnop.com you may also use xy@1l.vv yours Mrs sender'"
      ]
     },
     "execution_count": 22,
     "metadata": {},
     "output_type": "execute_result"
    }
   ],
   "source": [
    "# Using Python .replace() function\n",
    "new_text = text.replace('jhon', 'receiver').replace('jane', 'sender')\n",
    "new_text"
   ]
  },
  {
   "cell_type": "markdown",
   "id": "2d87ad18",
   "metadata": {
    "id": "2d87ad18"
   },
   "source": [
    "### Capitalize the beginning of the paragraph and the beginning of each sentence."
   ]
  },
  {
   "cell_type": "code",
   "execution_count": 23,
   "id": "456d8f4f",
   "metadata": {
    "id": "456d8f4f"
   },
   "outputs": [
    {
     "data": {
      "text/plain": [
       "['Dear mr receiver, kindly accept the attached file xx@file',\n",
       " 'You worked hard for the last 7 days',\n",
       " 'Enjoy your holiday',\n",
       " 'If you face a trouble please, contact _1@xyz.com or 1y@abc.com, ec@mnop.com you may also use xy@1l.vv yours mrs sender']"
      ]
     },
     "execution_count": 23,
     "metadata": {},
     "output_type": "execute_result"
    }
   ],
   "source": [
    "# OR Tokenization using Python .split() function\n",
    "sentences = new_text.split('. ')\n",
    "[sentence.capitalize() for sentence in sentences]"
   ]
  },
  {
   "cell_type": "code",
   "execution_count": 24,
   "id": "93713315",
   "metadata": {
    "colab": {
     "base_uri": "https://localhost:8080/"
    },
    "id": "93713315",
    "outputId": "d209d745-1524-44ac-dacc-09656c52d622"
   },
   "outputs": [
    {
     "data": {
      "text/plain": [
       "['dear Mr jhon, kindly accept the attached file xx@file.',\n",
       " 'you worked hard for the last 7 days.',\n",
       " 'enjoy your holiday.',\n",
       " 'if you face a trouble please, contact _1@xyz.com or 1y@abc.com, ec@mnop.com you may also use xy@1l.vv yours Mrs jane']"
      ]
     },
     "execution_count": 24,
     "metadata": {},
     "output_type": "execute_result"
    }
   ],
   "source": [
    "# Tokenization using NLTK \n",
    "sentences = nltk.sent_tokenize(text)\n",
    "sentences"
   ]
  },
  {
   "cell_type": "code",
   "execution_count": 25,
   "id": "adfbed68",
   "metadata": {
    "colab": {
     "base_uri": "https://localhost:8080/",
     "height": 54
    },
    "id": "adfbed68",
    "outputId": "29059528-8d83-4f85-9b7d-759fba39a080"
   },
   "outputs": [
    {
     "data": {
      "text/plain": [
       "'dear Mr receiver, kindly accept the attached file xx@file. you worked hard for the last 7 days. enjoy your holiday. if you face a trouble please, contact _1@xyz.com or 1y@abc.com, ec@mnop.com you may also use xy@1l.vv yours Mrs sender'"
      ]
     },
     "execution_count": 25,
     "metadata": {},
     "output_type": "execute_result"
    }
   ],
   "source": [
    "new_text"
   ]
  },
  {
   "cell_type": "markdown",
   "id": "e10b96c9",
   "metadata": {
    "id": "e10b96c9"
   },
   "source": [
    "### Extract the valid mentioned mails in the text."
   ]
  },
  {
   "cell_type": "code",
   "execution_count": 58,
   "id": "9b3f0705",
   "metadata": {},
   "outputs": [
    {
     "data": {
      "text/plain": [
       "['_1@xyz.com', '1y@abc.com,', 'ec@mnop.com', 'xy@1l.vv']"
      ]
     },
     "execution_count": 58,
     "metadata": {},
     "output_type": "execute_result"
    }
   ],
   "source": [
    "email_list = re.findall(\"\\S+@\\S+\\.\\S+\", new_text, re.IGNORECASE)\n",
    "email_list"
   ]
  },
  {
   "cell_type": "markdown",
   "id": "29fcd1ee",
   "metadata": {
    "id": "29fcd1ee"
   },
   "source": [
    "### Convert mails which start with **vowels** to end with `'@gmail.com'` and the other to end with `'@yahoo.com'."
   ]
  },
  {
   "cell_type": "code",
   "execution_count": 59,
   "id": "c9843114",
   "metadata": {},
   "outputs": [],
   "source": [
    "VOWELS = ['o','e','i','u','a']\n",
    "new_email_list = []\n",
    "\n",
    "for i in range(len(email_list)):\n",
    "    if email_list[i].split('@')[0][0] in VOWELS:\n",
    "        domain_part = email_list[i].split('@')[1]\n",
    "        new_email_list.append(email_list[i].replace(domain_part, 'gmail.com'))\n",
    "    else:\n",
    "        domain_part = email_list[i].split('@')[1]\n",
    "        new_email_list.append(email_list[i].replace(domain_part, 'yahoo.com'))"
   ]
  },
  {
   "cell_type": "code",
   "execution_count": 60,
   "id": "11fe9b59",
   "metadata": {},
   "outputs": [
    {
     "data": {
      "text/plain": [
       "['_1@yahoo.com', '1y@yahoo.com', 'ec@gmail.com', 'xy@yahoo.com']"
      ]
     },
     "execution_count": 60,
     "metadata": {},
     "output_type": "execute_result"
    }
   ],
   "source": [
    "new_email_list"
   ]
  },
  {
   "cell_type": "code",
   "execution_count": null,
   "id": "af6000d9",
   "metadata": {},
   "outputs": [],
   "source": []
  },
  {
   "cell_type": "markdown",
   "id": "0c1dd940",
   "metadata": {
    "id": "0c1dd940"
   },
   "source": [
    "---"
   ]
  },
  {
   "cell_type": "markdown",
   "id": "eca584be",
   "metadata": {
    "id": "eca584be"
   },
   "source": [
    "# Q3) use `Cosine Distance` to measure the `Similarity` between the following sentences:\n",
    "\n",
    "- X =\"`I like walking on the beach`\"   \n",
    "- Y =\"`Beach for sea like cloud for the sky`\"\n",
    "\n",
    "\n",
    "- X =\"`I like movies`\"                 \n",
    "- Y =\"`I love movies`\"\n",
    "\n",
    "\n",
    "- X =\"`I like movies`\"                 \n",
    "- Y =\"`I like films`\"\n",
    "\n",
    "\n",
    "- X =\"`Cat on the hat`\"                \n",
    "- Y =\"`Cat over hat`\""
   ]
  },
  {
   "cell_type": "code",
   "execution_count": 61,
   "id": "6cd861ec",
   "metadata": {},
   "outputs": [
    {
     "name": "stderr",
     "output_type": "stream",
     "text": [
      "[nltk_data] Downloading package stopwords to\n",
      "[nltk_data]     C:\\Users\\SM\\AppData\\Roaming\\nltk_data...\n",
      "[nltk_data]   Unzipping corpora\\stopwords.zip.\n"
     ]
    },
    {
     "data": {
      "text/plain": [
       "True"
      ]
     },
     "execution_count": 61,
     "metadata": {},
     "output_type": "execute_result"
    }
   ],
   "source": [
    "nltk.download('stopwords')"
   ]
  },
  {
   "cell_type": "code",
   "execution_count": 62,
   "id": "a5924086",
   "metadata": {
    "colab": {
     "base_uri": "https://localhost:8080/"
    },
    "id": "a5924086",
    "outputId": "0b483f04-2cbe-4242-86ed-59501c75afc7"
   },
   "outputs": [
    {
     "data": {
      "text/plain": [
       "['I like walking on the beach',\n",
       " 'I like movies',\n",
       " 'I like movies',\n",
       " 'Cat on the hat']"
      ]
     },
     "execution_count": 62,
     "metadata": {},
     "output_type": "execute_result"
    }
   ],
   "source": [
    "X = [\n",
    "    \"I like walking on the beach\",\n",
    "    \"I like movies\",\n",
    "    \"I like movies\",\n",
    "    \"Cat on the hat\"\n",
    "]\n",
    "\n",
    "X"
   ]
  },
  {
   "cell_type": "code",
   "execution_count": 63,
   "id": "d3f975e7",
   "metadata": {
    "colab": {
     "base_uri": "https://localhost:8080/"
    },
    "id": "d3f975e7",
    "outputId": "b56d001b-38ae-490e-9622-5fe35f8c339d"
   },
   "outputs": [
    {
     "data": {
      "text/plain": [
       "['Beach for sea like cloud for the sky',\n",
       " 'I love movies',\n",
       " 'I like films',\n",
       " 'Cat over hat']"
      ]
     },
     "execution_count": 63,
     "metadata": {},
     "output_type": "execute_result"
    }
   ],
   "source": [
    "Y = [\n",
    "    \"Beach for sea like cloud for the sky\",\n",
    "    \"I love movies\",\n",
    "    \"I like films\",\n",
    "    \"Cat over hat\"\n",
    "]\n",
    "\n",
    "Y"
   ]
  },
  {
   "cell_type": "code",
   "execution_count": null,
   "id": "e147afa5",
   "metadata": {},
   "outputs": [],
   "source": [
    "from nltk.corpus import stopwords"
   ]
  },
  {
   "cell_type": "code",
   "execution_count": 113,
   "id": "6eb92eef",
   "metadata": {},
   "outputs": [
    {
     "name": "stdout",
     "output_type": "stream",
     "text": [
      "179\n"
     ]
    },
    {
     "data": {
      "text/plain": [
       "['i',\n",
       " 'me',\n",
       " 'my',\n",
       " 'myself',\n",
       " 'we',\n",
       " 'our',\n",
       " 'ours',\n",
       " 'ourselves',\n",
       " 'you',\n",
       " \"you're\",\n",
       " \"you've\",\n",
       " \"you'll\",\n",
       " \"you'd\",\n",
       " 'your',\n",
       " 'yours',\n",
       " 'yourself',\n",
       " 'yourselves',\n",
       " 'he',\n",
       " 'him',\n",
       " 'his',\n",
       " 'himself',\n",
       " 'she',\n",
       " \"she's\",\n",
       " 'her',\n",
       " 'hers',\n",
       " 'herself',\n",
       " 'it',\n",
       " \"it's\",\n",
       " 'its',\n",
       " 'itself',\n",
       " 'they',\n",
       " 'them',\n",
       " 'their',\n",
       " 'theirs',\n",
       " 'themselves',\n",
       " 'what',\n",
       " 'which',\n",
       " 'who',\n",
       " 'whom',\n",
       " 'this',\n",
       " 'that',\n",
       " \"that'll\",\n",
       " 'these',\n",
       " 'those',\n",
       " 'am',\n",
       " 'is',\n",
       " 'are',\n",
       " 'was',\n",
       " 'were',\n",
       " 'be',\n",
       " 'been',\n",
       " 'being',\n",
       " 'have',\n",
       " 'has',\n",
       " 'had',\n",
       " 'having',\n",
       " 'do',\n",
       " 'does',\n",
       " 'did',\n",
       " 'doing',\n",
       " 'a',\n",
       " 'an',\n",
       " 'the',\n",
       " 'and',\n",
       " 'but',\n",
       " 'if',\n",
       " 'or',\n",
       " 'because',\n",
       " 'as',\n",
       " 'until',\n",
       " 'while',\n",
       " 'of',\n",
       " 'at',\n",
       " 'by',\n",
       " 'for',\n",
       " 'with',\n",
       " 'about',\n",
       " 'against',\n",
       " 'between',\n",
       " 'into',\n",
       " 'through',\n",
       " 'during',\n",
       " 'before',\n",
       " 'after',\n",
       " 'above',\n",
       " 'below',\n",
       " 'to',\n",
       " 'from',\n",
       " 'up',\n",
       " 'down',\n",
       " 'in',\n",
       " 'out',\n",
       " 'on',\n",
       " 'off',\n",
       " 'over',\n",
       " 'under',\n",
       " 'again',\n",
       " 'further',\n",
       " 'then',\n",
       " 'once',\n",
       " 'here',\n",
       " 'there',\n",
       " 'when',\n",
       " 'where',\n",
       " 'why',\n",
       " 'how',\n",
       " 'all',\n",
       " 'any',\n",
       " 'both',\n",
       " 'each',\n",
       " 'few',\n",
       " 'more',\n",
       " 'most',\n",
       " 'other',\n",
       " 'some',\n",
       " 'such',\n",
       " 'no',\n",
       " 'nor',\n",
       " 'not',\n",
       " 'only',\n",
       " 'own',\n",
       " 'same',\n",
       " 'so',\n",
       " 'than',\n",
       " 'too',\n",
       " 'very',\n",
       " 's',\n",
       " 't',\n",
       " 'can',\n",
       " 'will',\n",
       " 'just',\n",
       " 'don',\n",
       " \"don't\",\n",
       " 'should',\n",
       " \"should've\",\n",
       " 'now',\n",
       " 'd',\n",
       " 'll',\n",
       " 'm',\n",
       " 'o',\n",
       " 're',\n",
       " 've',\n",
       " 'y',\n",
       " 'ain',\n",
       " 'aren',\n",
       " \"aren't\",\n",
       " 'couldn',\n",
       " \"couldn't\",\n",
       " 'didn',\n",
       " \"didn't\",\n",
       " 'doesn',\n",
       " \"doesn't\",\n",
       " 'hadn',\n",
       " \"hadn't\",\n",
       " 'hasn',\n",
       " \"hasn't\",\n",
       " 'haven',\n",
       " \"haven't\",\n",
       " 'isn',\n",
       " \"isn't\",\n",
       " 'ma',\n",
       " 'mightn',\n",
       " \"mightn't\",\n",
       " 'mustn',\n",
       " \"mustn't\",\n",
       " 'needn',\n",
       " \"needn't\",\n",
       " 'shan',\n",
       " \"shan't\",\n",
       " 'shouldn',\n",
       " \"shouldn't\",\n",
       " 'wasn',\n",
       " \"wasn't\",\n",
       " 'weren',\n",
       " \"weren't\",\n",
       " 'won',\n",
       " \"won't\",\n",
       " 'wouldn',\n",
       " \"wouldn't\"]"
      ]
     },
     "execution_count": 113,
     "metadata": {},
     "output_type": "execute_result"
    }
   ],
   "source": [
    "stopwords_en = stopwords.words('english')\n",
    "print(len(stopwords_en))\n",
    "stopwords_en"
   ]
  },
  {
   "cell_type": "markdown",
   "id": "42ae984d",
   "metadata": {
    "id": "42ae984d"
   },
   "source": [
    "![image.png](data:image/png;base64,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)"
   ]
  },
  {
   "cell_type": "code",
   "execution_count": 54,
   "id": "10a8809b",
   "metadata": {},
   "outputs": [],
   "source": [
    "from numpy import dot, transpose\n",
    "from numpy.linalg import norm\n",
    "from nltk.tokenize import word_tokenize"
   ]
  },
  {
   "cell_type": "code",
   "execution_count": 95,
   "id": "8a5b76cb",
   "metadata": {
    "id": "8a5b76cb"
   },
   "outputs": [],
   "source": [
    "# Use Custom Function\n",
    "def cosine_similarity(x_vec, y_vec):\n",
    "    return dot(x_vec, y_vec)/(norm(x_vec) * norm(y_vec))"
   ]
  },
  {
   "cell_type": "code",
   "execution_count": 139,
   "id": "5d651744",
   "metadata": {
    "colab": {
     "base_uri": "https://localhost:8080/"
    },
    "id": "5d651744",
    "outputId": "c52ffb47-714a-45b7-bcfe-a4f47e6a3426"
   },
   "outputs": [
    {
     "data": {
      "text/plain": [
       "1.0"
      ]
     },
     "execution_count": 139,
     "metadata": {},
     "output_type": "execute_result"
    }
   ],
   "source": [
    "list1, list2 = [1,0], [1,0]\n",
    "cosine_similarity(list1, list2)"
   ]
  },
  {
   "cell_type": "code",
   "execution_count": 91,
   "id": "6adeafe1",
   "metadata": {},
   "outputs": [],
   "source": [
    "# Use Similarity from library\n",
    "from scipy.spatial.distance import cosine"
   ]
  },
  {
   "cell_type": "code",
   "execution_count": 169,
   "id": "5dc03fb3",
   "metadata": {
    "id": "5dc03fb3"
   },
   "outputs": [
    {
     "data": {
      "text/plain": [
       "1.0"
      ]
     },
     "execution_count": 169,
     "metadata": {},
     "output_type": "execute_result"
    }
   ],
   "source": [
    "result = 1.0 - cosine(list1, list2)\n",
    "result"
   ]
  },
  {
   "cell_type": "code",
   "execution_count": 188,
   "id": "7ec758f9",
   "metadata": {},
   "outputs": [
    {
     "name": "stdout",
     "output_type": "stream",
     "text": [
      "{'like', 'walking', 'beach', 'I'}\n",
      "{'like', 'movies', 'I'}\n",
      "{'like', 'movies', 'I'}\n",
      "{'hat', 'Cat'}\n"
     ]
    }
   ],
   "source": [
    "for x,y in zip(X,Y):\n",
    "    X_word_list = word_tokenize(x)\n",
    "    # print(X_word_list)\n",
    "    X_without_stopwords = {w for w in X_word_list if w not in stopwords_en}\n",
    "    print(X_without_stopwords)"
   ]
  },
  {
   "cell_type": "code",
   "execution_count": 187,
   "id": "c8cb0262",
   "metadata": {},
   "outputs": [
    {
     "name": "stdout",
     "output_type": "stream",
     "text": [
      "{'sky', 'cloud', 'like', 'sea', 'Beach'}\n",
      "{'love', 'movies', 'I'}\n",
      "{'like', 'films', 'I'}\n",
      "{'hat', 'Cat'}\n"
     ]
    }
   ],
   "source": [
    "for x,y in zip(X,Y):\n",
    "    X_word_list = word_tokenize(y)\n",
    "    # print(X_word_list)\n",
    "    X_without_stopwords = {w for w in X_word_list if w not in stopwords_en}\n",
    "    print(X_without_stopwords)"
   ]
  },
  {
   "cell_type": "code",
   "execution_count": 219,
   "id": "ceef2c37",
   "metadata": {
    "id": "ceef2c37"
   },
   "outputs": [],
   "source": [
    "def get_similarity_between_sentences(x, y):\n",
    "    X_word_list = word_tokenize(x)\n",
    "    Y_word_list = word_tokenize(y)\n",
    "    list_of_x =[]\n",
    "    list_of_y =[]\n",
    "\n",
    "    X_without_stopwords = [w for w in X_word_list if w not in stopwords_en]\n",
    "    Y_without_stopwords = [w for w in Y_word_list if w not in stopwords_en]\n",
    "    rvector = set(X_without_stopwords + Y_without_stopwords)\n",
    "    \n",
    "    for w in rvector:\n",
    "      if w in X_without_stopwords:\n",
    "        list_of_x.append(1)\n",
    "      else: \n",
    "        list_of_x.append(0)\n",
    "\n",
    "      if w in Y_without_stopwords:\n",
    "        list_of_y.append(1)\n",
    "      else: \n",
    "        list_of_y.append(0)\n",
    "    \n",
    "    if X_without_stopwords.__len__() > 3 and Y_without_stopwords.__len__() > 3:\n",
    "      X_without_stopwords.pop(-1)\n",
    "      Y_without_stopwords.pop(-1)\n",
    "          \n",
    "    cos = 1. - cosine([list_of_x], [list_of_y])\n",
    "    return list_of_x, list_of_y, round(cos, 1)"
   ]
  },
  {
   "cell_type": "code",
   "execution_count": 220,
   "id": "8d4a3970",
   "metadata": {},
   "outputs": [
    {
     "name": "stdout",
     "output_type": "stream",
     "text": [
      "X: I like walking on the beach\n",
      "Y: Beach for sea like cloud for the sky\n",
      "X_vec: [0, 0, 1, 1, 0, 0, 1, 1]\n",
      "Y_vec: [1, 1, 1, 0, 1, 1, 0, 0]\n",
      "Cosine Similarity: 0.2\n",
      "------------------------------\n",
      "X: I like movies\n",
      "Y: I love movies\n",
      "X_vec: [0, 1, 1, 1]\n",
      "Y_vec: [1, 0, 1, 1]\n",
      "Cosine Similarity: 0.7\n",
      "------------------------------\n",
      "X: I like movies\n",
      "Y: I like films\n",
      "X_vec: [1, 0, 1, 1]\n",
      "Y_vec: [1, 1, 0, 1]\n",
      "Cosine Similarity: 0.7\n",
      "------------------------------\n",
      "X: Cat on the hat\n",
      "Y: Cat over hat\n",
      "X_vec: [1, 1]\n",
      "Y_vec: [1, 1]\n",
      "Cosine Similarity: 1.0\n",
      "------------------------------\n"
     ]
    }
   ],
   "source": [
    "for x, y in zip(X, Y):\n",
    "    X_vec, Y_vec, cos = get_similarity_between_sentences(x, y)\n",
    "    print(f\"X: {x}\")\n",
    "    print(f\"Y: {y}\")\n",
    "    print(f\"X_vec: {X_vec}\")\n",
    "    print(f\"Y_vec: {Y_vec}\")\n",
    "    print(f\"Cosine Similarity: {cos}\")\n",
    "    print('-'*30)"
   ]
  },
  {
   "cell_type": "code",
   "execution_count": 38,
   "id": "ae0ad87f",
   "metadata": {
    "colab": {
     "base_uri": "https://localhost:8080/"
    },
    "id": "ae0ad87f",
    "outputId": "b855d844-9212-40a7-9abe-5184d60c861c"
   },
   "outputs": [
    {
     "name": "stdout",
     "output_type": "stream",
     "text": [
      "X: i like walking on the beach\n",
      "Y: beach for sea like cloud for the sky\n",
      "X_vec: [1, 1, 0, 1, 0, 0]\n",
      "Y_vec: [1, 1, 1, 0, 1, 1]\n",
      "Cosine Similarity: 0.516\n",
      "------------------------------\n",
      "X: i like movies\n",
      "Y: i love movies\n",
      "X_vec: [0, 1, 1]\n",
      "Y_vec: [1, 0, 1]\n",
      "Cosine Similarity: 0.5\n",
      "------------------------------\n",
      "X: i like movies\n",
      "Y: i like films\n",
      "X_vec: [0, 1, 1]\n",
      "Y_vec: [1, 1, 0]\n",
      "Cosine Similarity: 0.5\n",
      "------------------------------\n",
      "X: cat on the hat\n",
      "Y: cat over hat\n",
      "X_vec: [1, 1]\n",
      "Y_vec: [1, 1]\n",
      "Cosine Similarity: 1.0\n",
      "------------------------------\n"
     ]
    }
   ],
   "source": [
    "for x,y in zip(X, Y):\n",
    "    get_similarity_between_sentences(x, y)\n",
    "    print('-'*30)"
   ]
  },
  {
   "cell_type": "code",
   "execution_count": 38,
   "id": "6c4a6ad9",
   "metadata": {
    "id": "6c4a6ad9"
   },
   "outputs": [],
   "source": []
  },
  {
   "cell_type": "markdown",
   "id": "ab66ee70",
   "metadata": {
    "id": "ab66ee70"
   },
   "source": [
    "---"
   ]
  },
  {
   "cell_type": "markdown",
   "id": "77d7ff90",
   "metadata": {
    "id": "77d7ff90"
   },
   "source": [
    "# Q4)  Sentiment Analysis of IMDB Movie Reviews\n"
   ]
  },
  {
   "cell_type": "code",
   "execution_count": 55,
   "id": "da0c178c",
   "metadata": {},
   "outputs": [],
   "source": [
    "import pandas as pd\n",
    "\n",
    "from nltk.tokenize import word_tokenize\n",
    "from sklearn.feature_extraction.text import CountVectorizer\n",
    "from sklearn.model_selection import train_test_split\n",
    "\n",
    "import string\n",
    "from sklearn.naive_bayes import MultinomialNB\n",
    "from nltk.stem.porter import PorterStemmer\n",
    "\n",
    "import warnings\n",
    "warnings.filterwarnings('ignore')\n"
   ]
  },
  {
   "cell_type": "code",
   "execution_count": null,
   "id": "474457a2",
   "metadata": {},
   "outputs": [],
   "source": [
    "# nltk.download('all')"
   ]
  },
  {
   "cell_type": "code",
   "execution_count": 8,
   "id": "3a1101d1",
   "metadata": {},
   "outputs": [],
   "source": [
    "imdb_data = pd.read_csv('IMDB Dataset.csv')"
   ]
  },
  {
   "cell_type": "code",
   "execution_count": 9,
   "id": "138bb23d",
   "metadata": {},
   "outputs": [
    {
     "data": {
      "text/html": [
       "<div>\n",
       "<style scoped>\n",
       "    .dataframe tbody tr th:only-of-type {\n",
       "        vertical-align: middle;\n",
       "    }\n",
       "\n",
       "    .dataframe tbody tr th {\n",
       "        vertical-align: top;\n",
       "    }\n",
       "\n",
       "    .dataframe thead th {\n",
       "        text-align: right;\n",
       "    }\n",
       "</style>\n",
       "<table border=\"1\" class=\"dataframe\">\n",
       "  <thead>\n",
       "    <tr style=\"text-align: right;\">\n",
       "      <th></th>\n",
       "      <th>review</th>\n",
       "      <th>sentiment</th>\n",
       "    </tr>\n",
       "  </thead>\n",
       "  <tbody>\n",
       "    <tr>\n",
       "      <th>0</th>\n",
       "      <td>One of the other reviewers has mentioned that ...</td>\n",
       "      <td>positive</td>\n",
       "    </tr>\n",
       "    <tr>\n",
       "      <th>1</th>\n",
       "      <td>A wonderful little production. &lt;br /&gt;&lt;br /&gt;The...</td>\n",
       "      <td>positive</td>\n",
       "    </tr>\n",
       "    <tr>\n",
       "      <th>2</th>\n",
       "      <td>I thought this was a wonderful way to spend ti...</td>\n",
       "      <td>positive</td>\n",
       "    </tr>\n",
       "    <tr>\n",
       "      <th>3</th>\n",
       "      <td>Basically there's a family where a little boy ...</td>\n",
       "      <td>negative</td>\n",
       "    </tr>\n",
       "    <tr>\n",
       "      <th>4</th>\n",
       "      <td>Petter Mattei's \"Love in the Time of Money\" is...</td>\n",
       "      <td>positive</td>\n",
       "    </tr>\n",
       "  </tbody>\n",
       "</table>\n",
       "</div>"
      ],
      "text/plain": [
       "                                              review sentiment\n",
       "0  One of the other reviewers has mentioned that ...  positive\n",
       "1  A wonderful little production. <br /><br />The...  positive\n",
       "2  I thought this was a wonderful way to spend ti...  positive\n",
       "3  Basically there's a family where a little boy ...  negative\n",
       "4  Petter Mattei's \"Love in the Time of Money\" is...  positive"
      ]
     },
     "execution_count": 9,
     "metadata": {},
     "output_type": "execute_result"
    }
   ],
   "source": [
    "imdb_data.head(5)"
   ]
  },
  {
   "cell_type": "code",
   "execution_count": 29,
   "id": "75dbeafe",
   "metadata": {},
   "outputs": [],
   "source": [
    "X = imdb_data.review\n",
    "y = imdb_data.sentiment"
   ]
  },
  {
   "cell_type": "code",
   "execution_count": 30,
   "id": "852fa7e5",
   "metadata": {},
   "outputs": [
    {
     "data": {
      "text/plain": [
       "0"
      ]
     },
     "execution_count": 30,
     "metadata": {},
     "output_type": "execute_result"
    }
   ],
   "source": [
    "X.isna().sum()"
   ]
  },
  {
   "cell_type": "code",
   "execution_count": 35,
   "id": "761d951f",
   "metadata": {},
   "outputs": [
    {
     "data": {
      "text/plain": [
       "<AxesSubplot:>"
      ]
     },
     "execution_count": 35,
     "metadata": {},
     "output_type": "execute_result"
    },
    {
     "data": {
      "image/png": "[encoded data removed]",
      "text/plain": [
       "<Figure size 432x288 with 1 Axes>"
      ]
     },
     "metadata": {
      "needs_background": "light"
     },
     "output_type": "display_data"
    }
   ],
   "source": [
    "y.value_counts().plot(kind='bar', rot=45, color=['red', 'black'])"
   ]
  },
  {
   "cell_type": "markdown",
   "id": "6afba4e7",
   "metadata": {},
   "source": [
    "### preprocessing"
   ]
  },
  {
   "cell_type": "code",
   "execution_count": 39,
   "id": "178b7d38",
   "metadata": {
    "id": "178b7d38"
   },
   "outputs": [],
   "source": [
    "X = X.str.lower()"
   ]
  },
  {
   "cell_type": "code",
   "execution_count": 42,
   "id": "08ec9fb9",
   "metadata": {
    "id": "08ec9fb9"
   },
   "outputs": [],
   "source": [
    "#remove punctuation\n",
    "X = X.apply(lambda x: re.sub('[%s]' % re.escape(string.punctuation), '' , x))"
   ]
  },
  {
   "cell_type": "code",
   "execution_count": 43,
   "id": "102990fd",
   "metadata": {},
   "outputs": [],
   "source": [
    "#remove words and digits\n",
    "X = X.apply(lambda x: re.sub('W*dw*','',x))"
   ]
  },
  {
   "cell_type": "code",
   "execution_count": 44,
   "id": "f8e37f2b",
   "metadata": {},
   "outputs": [],
   "source": [
    "#remove stopwords\n",
    "from nltk.corpus import stopwords\n",
    "stop_words = set(stopwords.words('english'))"
   ]
  },
  {
   "cell_type": "code",
   "execution_count": 45,
   "id": "8485261d",
   "metadata": {},
   "outputs": [],
   "source": [
    "def remove_stopwords(text):\n",
    "    return \" \".join([word for word in str(text).split() if word not in stop_words])\n",
    "X = X.apply(lambda x: remove_stopwords(x))"
   ]
  },
  {
   "cell_type": "code",
   "execution_count": 47,
   "id": "4523076c",
   "metadata": {},
   "outputs": [],
   "source": [
    "# Remove Extra Spaces\n",
    "def remove_stopwords(text):\n",
    "    return \" \".join([word for word in str(text).split() if word not in stop_words])\n",
    "\n",
    "\n",
    "X = X.apply(lambda x: remove_stopwords(x))"
   ]
  },
  {
   "cell_type": "code",
   "execution_count": 48,
   "id": "21edba40",
   "metadata": {},
   "outputs": [],
   "source": [
    "X_train, X_test, y_train, y_test = train_test_split(X, y, random_state=2022)"
   ]
  },
  {
   "cell_type": "code",
   "execution_count": 49,
   "id": "b7335e5e",
   "metadata": {},
   "outputs": [],
   "source": [
    "class Stemmer_Tokenizer:\n",
    "  def __call__(self,doc):\n",
    "    stemmer = PorterStemmer()\n",
    "    tokenz = word_tokenize(doc)\n",
    "    return [stemmer.stem(t) for t in tokenz]"
   ]
  },
  {
   "cell_type": "code",
   "execution_count": 56,
   "id": "04953e63",
   "metadata": {},
   "outputs": [],
   "source": [
    "vectorizer = CountVectorizer(stop_words='english',tokenizer=Stemmer_Tokenizer())\n",
    "\n",
    "X_train = vectorizer.fit_transform(X_train)\n",
    "X_test = vectorizer.transform(X_test)"
   ]
  },
  {
   "cell_type": "code",
   "execution_count": 57,
   "metadata": {},
   "outputs": [],
   "source": [
    "model = MultinomialNB()"
   ]
  },
  {
   "cell_type": "code",
   "execution_count": 58,
   "metadata": {},
   "outputs": [
    {
     "name": "stdout",
     "output_type": "stream",
     "text": [
      "Train data score: 0.9056\n",
      "Test data score : 0.85512\n"
     ]
    }
   ],
   "source": [
    "model.fit(X_train, y_train)\n",
    "print(f'Train data score: {model.score(X_train, y_train)}')\n",
    "print(f'Test data score : {model.score(X_test, y_test)}')"
   ]
  },
  {
   "cell_type": "code",
   "execution_count": null,
   "id": "d7374777",
   "metadata": {},
   "outputs": [],
   "source": []
  }
 ],
 "metadata": {
  "accelerator": "GPU",
  "colab": {
   "collapsed_sections": [],
   "name": "MOhamed ElMesawy_Lab_01.ipynb",
   "provenance": []
  },
  "kernelspec": {
   "display_name": "Python 3.10.2 64-bit",
   "language": "python",
   "name": "python3"
  },
  "language_info": {
   "codemirror_mode": {
    "name": "ipython",
    "version": 3
   },
   "file_extension": ".py",
   "mimetype": "text/x-python",
   "name": "python",
   "nbconvert_exporter": "python",
   "pygments_lexer": "ipython3",
   "version": "3.10.2"
  },
  "vscode": {
   "interpreter": {
    "hash": "665ae0994724b1013868f7e77634dfc5a85cce5f00c589345370b6c9a0cceb5a"
   }
  }
 },
 "nbformat": 4,
 "nbformat_minor": 5
}
